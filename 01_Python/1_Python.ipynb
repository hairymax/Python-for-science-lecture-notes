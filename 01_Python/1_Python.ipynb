{
  "nbformat": 4,
  "nbformat_minor": 0,
  "metadata": {
    "colab": {
      "name": "1.Python.ipynb",
      "provenance": [],
      "collapsed_sections": [],
      "authorship_tag": "ABX9TyNL0NonkxMA7ZWPWlig6iTw",
      "include_colab_link": true
    },
    "kernelspec": {
      "name": "python3",
      "display_name": "Python 3"
    },
    "language_info": {
      "name": "python"
    }
  },
  "cells": [
    {
      "cell_type": "markdown",
      "metadata": {
        "id": "view-in-github",
        "colab_type": "text"
      },
      "source": [
        "<a href=\"https://colab.research.google.com/github/hairymax/Physics-with-python/blob/main/1_Python.ipynb\" target=\"_parent\"><img src=\"https://colab.research.google.com/assets/colab-badge.svg\" alt=\"Open In Colab\"/></a>"
      ]
    },
    {
      "cell_type": "code",
      "execution_count": 2,
      "metadata": {
        "id": "bOUWAjLm3M_d",
        "colab": {
          "base_uri": "https://localhost:8080/"
        },
        "outputId": "0b698eb7-23d4-4f8f-c209-ed3188278d67"
      },
      "outputs": [
        {
          "output_type": "stream",
          "name": "stdout",
          "text": [
            "Приветствую на курсе Компьютерные технологии в физике\n"
          ]
        }
      ],
      "source": [
        "text = ['Приветствую', 'на', 'курсе', 'Компьютерные', 'технологии', 'в', 'физике'] \n",
        "\n",
        "print(' '.join(text))"
      ]
    },
    {
      "cell_type": "code",
      "source": [
        ""
      ],
      "metadata": {
        "id": "qMeNPXbgslbi"
      },
      "execution_count": null,
      "outputs": []
    }
  ]
}